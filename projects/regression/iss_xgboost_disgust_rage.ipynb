{
  "nbformat": 4,
  "nbformat_minor": 0,
  "metadata": {
    "colab": {
      "name": "iss_xgboost_disgust_rage.ipynb",
      "provenance": [],
      "collapsed_sections": []
    },
    "kernelspec": {
      "name": "python3",
      "display_name": "Python 3"
    },
    "language_info": {
      "name": "python"
    }
  },
  "cells": [
    {
      "cell_type": "code",
      "metadata": {
        "colab": {
          "base_uri": "https://localhost:8080/"
        },
        "id": "1ZnNGhflSAH2",
        "outputId": "4a7d56c5-a465-4276-8733-2548ec662df9"
      },
      "source": [
        "from google.colab import drive\n",
        "drive.mount('/content/gdrive')"
      ],
      "execution_count": 2,
      "outputs": [
        {
          "output_type": "stream",
          "text": [
            "Mounted at /content/gdrive\n"
          ],
          "name": "stdout"
        }
      ]
    },
    {
      "cell_type": "code",
      "metadata": {
        "colab": {
          "base_uri": "https://localhost:8080/"
        },
        "id": "7JDnWGJhSEZI",
        "outputId": "329f64a0-b7c3-4d0c-acbc-78c77b9c95c8"
      },
      "source": [
        "%cd gdrive/MyDrive/iss"
      ],
      "execution_count": 3,
      "outputs": [
        {
          "output_type": "stream",
          "text": [
            "/content/gdrive/MyDrive/iss\n"
          ],
          "name": "stdout"
        }
      ]
    },
    {
      "cell_type": "code",
      "metadata": {
        "id": "Y9x2H256SEdU"
      },
      "source": [
        "import pandas as pd\n",
        "import numpy as np\n",
        "from sklearn.metrics import mean_squared_error\n",
        "from sklearn.model_selection import train_test_split, cross_val_score\n",
        "from sklearn.feature_extraction.text import TfidfVectorizer\n",
        "from sklearn.metrics import mean_squared_error, make_scorer\n",
        "from math import sqrt\n",
        "import matplotlib.pyplot as plt\n",
        "import xgboost as xgb\n",
        "from hyperopt import STATUS_OK, Trials, fmin, hp, tpe"
      ],
      "execution_count": 27,
      "outputs": []
    },
    {
      "cell_type": "code",
      "metadata": {
        "id": "6zswabEsSEhQ"
      },
      "source": [
        "SEED = 2021"
      ],
      "execution_count": 5,
      "outputs": []
    },
    {
      "cell_type": "code",
      "metadata": {
        "id": "KawaTAgZSEkK"
      },
      "source": [
        "def rmse(y, y_pred):\n",
        "    return sqrt(mean_squared_error(y, y_pred))"
      ],
      "execution_count": 6,
      "outputs": []
    },
    {
      "cell_type": "code",
      "metadata": {
        "id": "U0VLhzOjSNRi"
      },
      "source": [
        "def split_data(X, y):\n",
        "    X_train, X_test, y_train, y_test = train_test_split(X, y, test_size=0.3, random_state=SEED)\n",
        "    return X_train, X_test, y_train, y_test"
      ],
      "execution_count": 7,
      "outputs": []
    },
    {
      "cell_type": "code",
      "metadata": {
        "id": "uM9b_CHUSXKh"
      },
      "source": [
        "def plot_target(y_train, y_test, label_1='y_train', label_2='y_test'):\n",
        "    fig, ax = plt.subplots()\n",
        "    pd.DataFrame(y_train).hist(ax=ax, bins=100)\n",
        "    y_test.hist(ax=ax, bins=100)\n",
        "    ax.set_yscale('log')\n",
        "    ax.legend([label_1, label_2])"
      ],
      "execution_count": 8,
      "outputs": []
    },
    {
      "cell_type": "code",
      "metadata": {
        "colab": {
          "base_uri": "https://localhost:8080/",
          "height": 204
        },
        "id": "jXEgvZhHSNVG",
        "outputId": "66dc181f-3259-459d-e8b3-483db5560cb9"
      },
      "source": [
        "df = pd.read_csv(\"https://storage.yandexcloud.net/nlp-dataset-bucket-1/toloka-vk-proceedings-2020/toloka-vk-raw-unprocessed.tsv\", sep='\\t',\n",
        "                 names=['INPUT:text', 'OUTPUT:disgust_rage', 'OUTPUT:fear_surprise', 'OUTPUT:shame_excitement', 'OUTPUT:enjoyment_distress'],\n",
        "                 index_col=False, header=0)\n",
        "df = df.dropna(how='all')\n",
        "df.head()"
      ],
      "execution_count": 9,
      "outputs": [
        {
          "output_type": "execute_result",
          "data": {
            "text/html": [
              "<div>\n",
              "<style scoped>\n",
              "    .dataframe tbody tr th:only-of-type {\n",
              "        vertical-align: middle;\n",
              "    }\n",
              "\n",
              "    .dataframe tbody tr th {\n",
              "        vertical-align: top;\n",
              "    }\n",
              "\n",
              "    .dataframe thead th {\n",
              "        text-align: right;\n",
              "    }\n",
              "</style>\n",
              "<table border=\"1\" class=\"dataframe\">\n",
              "  <thead>\n",
              "    <tr style=\"text-align: right;\">\n",
              "      <th></th>\n",
              "      <th>INPUT:text</th>\n",
              "      <th>OUTPUT:disgust_rage</th>\n",
              "      <th>OUTPUT:fear_surprise</th>\n",
              "      <th>OUTPUT:shame_excitement</th>\n",
              "      <th>OUTPUT:enjoyment_distress</th>\n",
              "    </tr>\n",
              "  </thead>\n",
              "  <tbody>\n",
              "    <tr>\n",
              "      <th>0</th>\n",
              "      <td>Приехала в свой родной город на выходные, от з...</td>\n",
              "      <td>2.0</td>\n",
              "      <td>3.0</td>\n",
              "      <td>0.0</td>\n",
              "      <td>2.0</td>\n",
              "    </tr>\n",
              "    <tr>\n",
              "      <th>2</th>\n",
              "      <td>У моей мамы два с половиной года назад отказал...</td>\n",
              "      <td>0.0</td>\n",
              "      <td>-4.0</td>\n",
              "      <td>0.0</td>\n",
              "      <td>5.0</td>\n",
              "    </tr>\n",
              "    <tr>\n",
              "      <th>4</th>\n",
              "      <td>Два года назад племянника моего мужа сбила маш...</td>\n",
              "      <td>5.0</td>\n",
              "      <td>-2.0</td>\n",
              "      <td>0.0</td>\n",
              "      <td>5.0</td>\n",
              "    </tr>\n",
              "    <tr>\n",
              "      <th>6</th>\n",
              "      <td>Год без секса, но больше всего скучаю не по фи...</td>\n",
              "      <td>0.0</td>\n",
              "      <td>0.0</td>\n",
              "      <td>4.0</td>\n",
              "      <td>1.0</td>\n",
              "    </tr>\n",
              "    <tr>\n",
              "      <th>8</th>\n",
              "      <td>На днях узнала что беременна . Мой жених уходи...</td>\n",
              "      <td>0.0</td>\n",
              "      <td>-5.0</td>\n",
              "      <td>-3.0</td>\n",
              "      <td>3.0</td>\n",
              "    </tr>\n",
              "  </tbody>\n",
              "</table>\n",
              "</div>"
            ],
            "text/plain": [
              "                                          INPUT:text  ...  OUTPUT:enjoyment_distress\n",
              "0  Приехала в свой родной город на выходные, от з...  ...                        2.0\n",
              "2  У моей мамы два с половиной года назад отказал...  ...                        5.0\n",
              "4  Два года назад племянника моего мужа сбила маш...  ...                        5.0\n",
              "6  Год без секса, но больше всего скучаю не по фи...  ...                        1.0\n",
              "8  На днях узнала что беременна . Мой жених уходи...  ...                        3.0\n",
              "\n",
              "[5 rows x 5 columns]"
            ]
          },
          "metadata": {
            "tags": []
          },
          "execution_count": 9
        }
      ]
    },
    {
      "cell_type": "code",
      "metadata": {
        "id": "OO9VI-IgSNYg"
      },
      "source": [
        "input_col = 'INPUT:text'\n",
        "outpul_cols = ['OUTPUT:disgust_rage', 'OUTPUT:fear_surprise', 'OUTPUT:shame_excitement', 'OUTPUT:enjoyment_distress']"
      ],
      "execution_count": 10,
      "outputs": []
    },
    {
      "cell_type": "code",
      "metadata": {
        "id": "e6_6Pd2wSUYQ"
      },
      "source": [
        "y = df['OUTPUT:disgust_rage'].values\n",
        "X = df[input_col]\n",
        "\n",
        "X_train, X_test, y_train, y_test = split_data(X, y)\n",
        "\n",
        "X_train = X_train.values\n",
        "X_test = X_test.values"
      ],
      "execution_count": 11,
      "outputs": []
    },
    {
      "cell_type": "code",
      "metadata": {
        "id": "hfNeuXgeXii-"
      },
      "source": [
        "tfidf_vectorizer = TfidfVectorizer()\n",
        "X_train = tfidf_vectorizer.fit_transform(X_train)\n",
        "X_test = tfidf_vectorizer.transform(X_test)"
      ],
      "execution_count": 12,
      "outputs": []
    },
    {
      "cell_type": "code",
      "metadata": {
        "id": "Qct9vUDkY1EY"
      },
      "source": [
        "def objective(space):\n",
        "    model = xgb.XGBRegressor(\n",
        "                    objective='reg:squarederror',\n",
        "                    n_estimators=int(space['n_estimators']),\n",
        "                    max_depth=int(space['max_depth']),\n",
        "                    eta=space['eta'],\n",
        "                    gamma = space['gamma'],\n",
        "                    colsample_bytree=space['colsample_bytree'],\n",
        "                    min_child_weight = space['min_child_weight'],\n",
        "                    subsample = space['subsample'],\n",
        "                    random_state=SEED\n",
        "                    )\n",
        "    \n",
        "    evaluation = [(X_train, y_train), (X_test, y_test)]\n",
        "    \n",
        "    model.fit(X_train, y_train,\n",
        "              eval_set=evaluation,\n",
        "              early_stopping_rounds=10,\n",
        "              verbose=False)\n",
        "\n",
        "    cv_scores = cross_val_score(estimator=model,\n",
        "                                X=X_train,\n",
        "                                y=y_train,\n",
        "                                cv=5,\n",
        "                                scoring=make_scorer(rmse))\n",
        "    score = cv_scores.mean()\n",
        "    \n",
        "\n",
        "    print(\"Cross validation score:\", score)\n",
        "    return {'loss': score, 'status': STATUS_OK }"
      ],
      "execution_count": 22,
      "outputs": []
    },
    {
      "cell_type": "code",
      "metadata": {
        "id": "zh83Q8OxSbIX"
      },
      "source": [
        "def run_hyperparams_search():\n",
        "\n",
        "  space={\n",
        "       'max_depth': hp.quniform('max_depth', 5, 15, 1),\n",
        "       'gamma': hp.quniform('gamma', 0, 0.50, 0.01),\n",
        "       'eta': hp.quniform('eta', 0.01, 0.5, 0.01),\n",
        "       'min_child_weight' : hp.quniform('min_child_weight', 1, 10, 1),\n",
        "       'n_estimators': hp.quniform('n_estimators', 100, 400, 1),\n",
        "       'subsample': hp.quniform('subsample', 0.1, 1, 0.01),\n",
        "       'colsample_bytree' : hp.quniform('colsample_bytree', 0.1, 1.0, 0.01),\n",
        "  }\n",
        "\n",
        "  trials = Trials()\n",
        "\n",
        "  best_hyperparams = fmin(fn=objective,\n",
        "                          space=space,\n",
        "                          algo=tpe.suggest,\n",
        "                          max_evals=50,\n",
        "                          trials=trials)\n",
        "  return best_hyperparams"
      ],
      "execution_count": 14,
      "outputs": []
    },
    {
      "cell_type": "code",
      "metadata": {
        "id": "qFuCQy2zSbEW"
      },
      "source": [
        "def fit_model_from_best(best_params):\n",
        "    model = xgb.XGBRegressor(\n",
        "                    objective='reg:squarederror',\n",
        "                    n_estimators=int(best_params['n_estimators']),\n",
        "                    max_depth=int(best_params['max_depth']),\n",
        "                    eta=best_params['eta'],\n",
        "                    gamma = best_params['gamma'],\n",
        "                    colsample_bytree=best_params['colsample_bytree'],\n",
        "                    min_child_weight = best_params['min_child_weight'],\n",
        "                    subsample = best_params['subsample'],\n",
        "                    random_state=SEED\n",
        "                    )\n",
        "\n",
        "    model.fit(X_train, y_train)\n",
        "\n",
        "    cv_scores = cross_val_score(estimator=model,\n",
        "                                X=X_train,\n",
        "                                y=y_train,\n",
        "                                cv=5,\n",
        "                                scoring=make_scorer(rmse))\n",
        "    score = cv_scores.mean()\n",
        "    print(\"Cross validation score:\", score)\n",
        "    return model"
      ],
      "execution_count": 15,
      "outputs": []
    },
    {
      "cell_type": "code",
      "metadata": {
        "colab": {
          "base_uri": "https://localhost:8080/"
        },
        "id": "W-Xok9z2SbAU",
        "outputId": "013c56a1-fa0c-453a-fd52-f7617297516c"
      },
      "source": [
        "best_hyperparams = run_hyperparams_search()"
      ],
      "execution_count": 23,
      "outputs": [
        {
          "output_type": "stream",
          "text": [
            "Cross validation score:\n",
            "2.2992910643794637\n",
            "Cross validation score:\n",
            "2.2852716123746313\n",
            "Cross validation score:\n",
            "2.2887427592676386\n",
            "Cross validation score:\n",
            "2.3633535912348975\n",
            "Cross validation score:\n",
            "2.3673541320178595\n",
            "Cross validation score:\n",
            "2.2942056760656055\n",
            "Cross validation score:\n",
            "2.3050576255808695\n",
            "Cross validation score:\n",
            "2.3576538665230515\n",
            "Cross validation score:\n",
            "2.3373619736655167\n",
            "Cross validation score:\n",
            "2.322170683799331\n",
            "Cross validation score:\n",
            "2.3100839717968187\n",
            "Cross validation score:\n",
            "2.444805736316396\n",
            "Cross validation score:\n",
            "2.3472123752615053\n",
            "Cross validation score:\n",
            "2.565009296417024\n",
            "Cross validation score:\n",
            "2.6763614306453163\n",
            "Cross validation score:\n",
            "2.4581667961779643\n",
            "Cross validation score:\n",
            "2.360020710982542\n",
            "Cross validation score:\n",
            "2.3035248518819778\n",
            "Cross validation score:\n",
            "2.3001226210070014\n",
            "Cross validation score:\n",
            "2.3766129353585264\n",
            "Cross validation score:\n",
            "2.257376225865715\n",
            "Cross validation score:\n",
            "2.279609420196384\n",
            "Cross validation score:\n",
            "2.2529014657333106\n",
            "Cross validation score:\n",
            "2.2975997534218977\n",
            "Cross validation score:\n",
            "2.2694151234954534\n",
            "Cross validation score:\n",
            "2.296927840430748\n",
            "Cross validation score:\n",
            "2.2612378784863276\n",
            "Cross validation score:\n",
            "2.3115243012470232\n",
            "Cross validation score:\n",
            "2.2520294428122933\n",
            "Cross validation score:\n",
            "2.2705540522608416\n",
            "Cross validation score:\n",
            "2.32962414871088\n",
            "Cross validation score:\n",
            "2.258015960252381\n",
            "Cross validation score:\n",
            "2.263612520665096\n",
            "Cross validation score:\n",
            "2.317817804590864\n",
            "Cross validation score:\n",
            "2.2903585841781102\n",
            "Cross validation score:\n",
            "2.3183454698512307\n",
            "Cross validation score:\n",
            "2.3010568989893794\n",
            "Cross validation score:\n",
            "2.4399775041472624\n",
            "Cross validation score:\n",
            "2.3239083384099057\n",
            "Cross validation score:\n",
            "2.343606603618279\n",
            "Cross validation score:\n",
            "2.280667758891614\n",
            "Cross validation score:\n",
            "2.314698204057381\n",
            "Cross validation score:\n",
            "2.3625552093033733\n",
            "Cross validation score:\n",
            "2.2790352074311846\n",
            "Cross validation score:\n",
            "2.3443975661926872\n",
            "Cross validation score:\n",
            "2.274407182648476\n",
            "Cross validation score:\n",
            "2.3508093684659084\n",
            "Cross validation score:\n",
            "2.321191952423768\n",
            "Cross validation score:\n",
            "2.400509891316793\n",
            "Cross validation score:\n",
            "2.2914222885694384\n",
            "100%|██████████| 50/50 [1:00:12<00:00, 72.26s/it, best loss: 2.2520294428122933]\n"
          ],
          "name": "stdout"
        }
      ]
    },
    {
      "cell_type": "code",
      "metadata": {
        "colab": {
          "base_uri": "https://localhost:8080/"
        },
        "id": "dvkh-oPNSa47",
        "outputId": "8f979fc5-ce05-4485-986e-33857e418427"
      },
      "source": [
        "best_hyperparams"
      ],
      "execution_count": 24,
      "outputs": [
        {
          "output_type": "execute_result",
          "data": {
            "text/plain": [
              "{'colsample_bytree': 0.61,\n",
              " 'eta': 0.04,\n",
              " 'gamma': 0.13,\n",
              " 'max_depth': 5.0,\n",
              " 'min_child_weight': 3.0,\n",
              " 'n_estimators': 106.0,\n",
              " 'subsample': 0.86}"
            ]
          },
          "metadata": {
            "tags": []
          },
          "execution_count": 24
        }
      ]
    },
    {
      "cell_type": "code",
      "metadata": {
        "colab": {
          "base_uri": "https://localhost:8080/"
        },
        "id": "8JThseTIZM5G",
        "outputId": "0ba006bd-6908-4817-b388-e4b300a5a2f6"
      },
      "source": [
        "%%time\n",
        "model = fit_model_from_best(best_hyperparams)"
      ],
      "execution_count": 25,
      "outputs": [
        {
          "output_type": "stream",
          "text": [
            "Cross validation score: 2.2520294428122933\n",
            "CPU times: user 29.2 s, sys: 67.9 ms, total: 29.2 s\n",
            "Wall time: 29.2 s\n"
          ],
          "name": "stdout"
        }
      ]
    },
    {
      "cell_type": "code",
      "metadata": {
        "colab": {
          "base_uri": "https://localhost:8080/"
        },
        "id": "_QkvIxw8ZPxd",
        "outputId": "a879de22-c248-45a8-9167-7bf00ca40ab3"
      },
      "source": [
        "preds = model.predict(X_test)\n",
        "print('rmse value: ', rmse(preds, y_test))"
      ],
      "execution_count": 34,
      "outputs": [
        {
          "output_type": "stream",
          "text": [
            "rmse value:  2.2640847507642787\n"
          ],
          "name": "stdout"
        }
      ]
    },
    {
      "cell_type": "code",
      "metadata": {
        "colab": {
          "base_uri": "https://localhost:8080/",
          "height": 281
        },
        "id": "mjArLAwMSUbr",
        "outputId": "294f5d75-521d-4f1c-90bf-bff3e68973a2"
      },
      "source": [
        "plot_target(y_test, pd.Series(preds), 'test', 'preds')"
      ],
      "execution_count": 31,
      "outputs": [
        {
          "output_type": "display_data",
          "data": {
            "image/png": "[encoded data removed]",
            "text/plain": [
              "<Figure size 432x288 with 1 Axes>"
            ]
          },
          "metadata": {
            "tags": [],
            "needs_background": "light"
          }
        }
      ]
    }
  ]
}